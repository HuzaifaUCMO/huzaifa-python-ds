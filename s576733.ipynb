{
 "cells": [
  {
   "cell_type": "markdown",
   "id": "99d878ce",
   "metadata": {},
   "source": [
    "Name: Huzaifa Nadeem\n"
   ]
  },
  {
   "cell_type": "code",
   "execution_count": null,
   "id": "83d0f973",
   "metadata": {},
   "outputs": [],
   "source": [
    "for i in range(1, 5):\n",
    "    left = '*' * i\n",
    "    right = '*' * i\n",
    "    spaces = ' ' * (8 - 2*i)\n",
    "    print(left + spaces + right)\n"
   ]
  }
 ],
 "metadata": {
  "language_info": {
   "name": "python"
  }
 },
 "nbformat": 4,
 "nbformat_minor": 5
}
